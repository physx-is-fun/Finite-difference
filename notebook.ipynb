{
 "cells": [
  {
   "cell_type": "markdown",
   "metadata": {},
   "source": [
    "# Laser pulse propagation in optical fiber"
   ]
  },
  {
   "cell_type": "markdown",
   "metadata": {},
   "source": [
    "This notebook shows a simple, scalar implementation of the [finite difference](https://en.wikipedia.org/wiki/Finite_difference_method) for solving the [Nonlinear Schrödinger Equation](https://en.wikipedia.org/wiki/Nonlinear_Schrödinger_equation).\n",
    "\n",
    "$\\frac{\\partial A}{\\partial z}=-\\frac{\\alpha}{2}A+i \\frac{\\beta_2}{2} \\frac{\\partial^2 A}{\\partial t^2}-i \\gamma(|A|^2A)$\n",
    "\n",
    "This nonlinear partial differential equation models how the envelope and phase of light pulse changes when propagating through a single mode optical fiber, when taking power attenuation ($\\alpha$), group velocity dispersion ($\\beta_2$)and waveguide nonlinearity ($\\gamma$) causing self-phase modulation (SPM) into account."
   ]
  },
  {
   "cell_type": "markdown",
   "metadata": {},
   "source": [
    "## Importing the modules"
   ]
  },
  {
   "cell_type": "code",
   "execution_count": null,
   "metadata": {
    "tags": []
   },
   "outputs": [],
   "source": [
    "from libraries import *\n",
    "from variables import *\n",
    "from functions import *\n",
    "from classes import *"
   ]
  },
  {
   "cell_type": "markdown",
   "metadata": {},
   "source": [
    "## Initialize class about simulation parameters"
   ]
  },
  {
   "cell_type": "code",
   "execution_count": null,
   "metadata": {
    "tags": []
   },
   "outputs": [],
   "source": [
    "sim_config = SIM_config(simunit,N,dt,wavelength0)"
   ]
  },
  {
   "cell_type": "markdown",
   "metadata": {},
   "source": [
    "## Initialize class about plot parameters"
   ]
  },
  {
   "cell_type": "code",
   "execution_count": null,
   "metadata": {},
   "outputs": [],
   "source": [
    "plot_config = PLOT_config(plotunit,N,dt,wavelength0,duration)"
   ]
  },
  {
   "cell_type": "markdown",
   "metadata": {},
   "source": [
    "## Testing the defined functions"
   ]
  },
  {
   "cell_type": "code",
   "execution_count": null,
   "metadata": {
    "tags": []
   },
   "outputs": [],
   "source": [
    "# Initialize Gaussian pulse in the time domain\n",
    "testPulse = GaussianPulseTime(plot_config.t,sim_config.amplitude,plot_config.duration) / sim_config.amplitude\n",
    "\n",
    "fig, ax1 = plt.subplots()\n",
    "ax2 = ax1.twinx()\n",
    "plt.title(\"Initial pulse\")\n",
    "ax1.plot(plot_config.t,getPower(testPulse)/np.max(getPower(testPulse)),'g-')\n",
    "ax2.plot(plot_config.t,abs(testPulse)/np.max(abs(testPulse)),'b-')\n",
    "ax1.set_xlabel(\"Time \" + timedictionary[plotunit])\n",
    "ax1.set_ylabel(\"Power [arbitrary unit]\", color='g')\n",
    "ax2.set_ylabel(\"Amplitude [arbitrary unit]\", color='b')\n",
    "ax1.set_ylim(0,1)\n",
    "ax2.set_ylim(0,1)\n",
    "plt.xlim(-5*plot_config.duration,5*plot_config.duration)\n",
    "savePlot('initial pulse')\n",
    "plt.show()"
   ]
  },
  {
   "cell_type": "markdown",
   "metadata": {},
   "source": [
    "## Testing the defined spectrum functions"
   ]
  },
  {
   "cell_type": "code",
   "execution_count": null,
   "metadata": {
    "tags": []
   },
   "outputs": [],
   "source": [
    "# Initialize Gaussian pulse in the frequency domain\n",
    "testSpectrumTheory = GaussianPulseFrequency(plot_config.f,plot_config.frequency0,sim_config.amplitude,plot_config.duration) / sim_config.amplitude\n",
    "# Getting spectrum from pulse\n",
    "testSpectrum=getSpectrumFromPulse(plot_config.t,plot_config.f,testPulse)\n",
    "# Getting Gaussian spectrum\n",
    "testSpectrum_2=GaussianSpectrum(plot_config.t,plot_config.f,sim_config.amplitude,1/(plot_config.duration)) / sim_config.amplitude\n",
    "plt.figure()\n",
    "plt.title(\"Spectrum of initial pulse\")\n",
    "plt.plot(plot_config.f,getPower(testSpectrumTheory)/np.max(getPower(testSpectrumTheory)),label=\"Spectrum of the theory\")\n",
    "plt.plot(plot_config.f_rel,getPower(testSpectrum)/np.max(getPower(testSpectrum)),label=\"Spectrum of testPulse\")\n",
    "plt.plot(plot_config.f_rel,getPower(testSpectrum_2)/np.max(getPower(testSpectrum_2)),label=\"Spectrum generated with GaussianSpectrum\")\n",
    "plt.axis([-1/plot_config.duration + plot_config.frequency0,1/plot_config.duration + plot_config.frequency0,0,1])\n",
    "plt.xlabel(\"Frequency \" + frequencydictionary[plotunit])\n",
    "plt.ylabel(\"Power spectral density [arbitrary unit]\")\n",
    "plt.legend()\n",
    "savePlot('spectrum of the initial pulse')\n",
    "plt.show()"
   ]
  },
  {
   "cell_type": "markdown",
   "metadata": {},
   "source": [
    "## Testing the FWHM function"
   ]
  },
  {
   "cell_type": "code",
   "execution_count": null,
   "metadata": {},
   "outputs": [],
   "source": [
    "FWHM_frequency=FWHM(plot_config.f,getPower(testSpectrum))\n",
    "FWHM_time=FWHM(plot_config.t,getPower(testPulse))\n",
    "product=FWHM_frequency*FWHM_time\n",
    "print(f\"The product of the pulse and the spectrum's FWHM is {product}\")"
   ]
  },
  {
   "cell_type": "markdown",
   "metadata": {},
   "source": [
    "## Initialize class about fiber"
   ]
  },
  {
   "cell_type": "code",
   "execution_count": null,
   "metadata": {},
   "outputs": [],
   "source": [
    "fiber=Fiber_config(fiberunit,nsteps,Length,gammaconstant,beta2,alpha_dB_per_m)"
   ]
  },
  {
   "cell_type": "markdown",
   "metadata": {},
   "source": [
    "# Run Simulation"
   ]
  },
  {
   "cell_type": "code",
   "execution_count": null,
   "metadata": {},
   "outputs": [],
   "source": [
    "pulseMatrix, spectrumMatrix = Simulation(fiber,sim_config,testPulse,'EFORK3')\n",
    "testPulse0=np.copy(pulseMatrix[0,:])\n",
    "testSpectrum0=np.copy(spectrumMatrix[0,:])\n",
    "testPulseFinal=np.copy(pulseMatrix[-1,:])\n",
    "testSpectrumFinal=np.copy(spectrumMatrix[-1,:])"
   ]
  },
  {
   "cell_type": "markdown",
   "metadata": {},
   "source": [
    "## Initialize functions for plotting the results"
   ]
  },
  {
   "cell_type": "code",
   "execution_count": null,
   "metadata": {},
   "outputs": [],
   "source": [
    "#%%script false\n",
    "FWHM_frequency_final=FWHM(plot_config.f_rel,getPower(testSpectrumFinal))\n",
    "#plotFirstAndLastPulse(pulseMatrix,plot_config)\n",
    "#plotPulseMatrix2D(pulseMatrix,fiber,plot_config)\n",
    "#plotFirstAndLastSpectrum(spectrumMatrix,plot_config,FWHM_frequency_final)\n",
    "#plotPSDWavelength(spectrumMatrix,plot_config)\n",
    "#plotSpectrumMatrix2D(spectrumMatrix,fiber,sim_config,FWHM_frequency_final)\n",
    "#plotSpectrogram(plot_config, pulseMatrix[0,:], 2000, 2000, sim_config.time_step, label='initial')\n",
    "#plotSpectrogram(plot_config, pulseMatrix[-1,:], 2000, 2000, sim_config.time_step, label='final')"
   ]
  }
 ],
 "metadata": {
  "kernelspec": {
   "display_name": "Python 3",
   "language": "python",
   "name": "python3"
  },
  "language_info": {
   "codemirror_mode": {
    "name": "ipython",
    "version": 3
   },
   "file_extension": ".py",
   "mimetype": "text/x-python",
   "name": "python",
   "nbconvert_exporter": "python",
   "pygments_lexer": "ipython3",
   "version": "3.11.5"
  }
 },
 "nbformat": 4,
 "nbformat_minor": 4
}
